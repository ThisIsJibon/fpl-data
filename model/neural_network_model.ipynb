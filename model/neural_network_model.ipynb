{
  "nbformat": 4,
  "nbformat_minor": 0,
  "metadata": {
    "colab": {
      "provenance": []
    },
    "kernelspec": {
      "name": "python3",
      "display_name": "Python 3"
    },
    "language_info": {
      "name": "python"
    }
  },
  "cells": [
    {
      "cell_type": "code",
      "execution_count": 31,
      "metadata": {
        "id": "KT-4iNhIbGMW"
      },
      "outputs": [],
      "source": [
        "import numpy as np\n",
        "import pandas as pd\n",
        "import math\n",
        "import random\n",
        "import copy\n",
        "import matplotlib.pyplot as plt\n",
        "import seaborn as sns\n",
        "import joblib\n",
        "import pickle\n",
        "\n",
        "from sklearn.metrics import mean_absolute_error\n",
        "from sklearn.model_selection import train_test_split\n",
        "from sklearn.naive_bayes import GaussianNB\n",
        "\n",
        "from sklearn.preprocessing import StandardScaler\n",
        "from sklearn.feature_selection import f_classif\n",
        "from sklearn import linear_model\n",
        "from sklearn.linear_model import LinearRegression\n",
        "\n",
        "from sklearn.linear_model import Ridge\n",
        "\n",
        "from sklearn import ensemble  \n",
        "from sklearn.model_selection import train_test_split\n",
        "from sklearn.ensemble import RandomForestRegressor \n",
        "from sklearn.neural_network import MLPRegressor "
      ]
    },
    {
      "cell_type": "code",
      "source": [
        "#from google.colab import files\n",
        "#files.upload()"
      ],
      "metadata": {
        "id": "4xtK3fkLbV73"
      },
      "execution_count": 32,
      "outputs": []
    },
    {
      "cell_type": "code",
      "source": [],
      "metadata": {
        "id": "i2rzAxXOcrSl"
      },
      "execution_count": 32,
      "outputs": []
    },
    {
      "cell_type": "markdown",
      "source": [
        "**DataSet**\n",
        "We took a dataset of 1855 datapoints to analyze different models and evaluate their performance.\n"
      ],
      "metadata": {
        "id": "spztF8Zacoht"
      }
    },
    {
      "cell_type": "code",
      "source": [
        "iowa_file_path = './complete_timeseries_dataset.csv'\n",
        "\n",
        "df = pd.read_csv(iowa_file_path,index_col = 0)\n",
        "iowa_file_path = './players_raw.csv'\n",
        "\n",
        "players_raw = pd.read_csv(iowa_file_path,index_col = 0)"
      ],
      "metadata": {
        "id": "HwmU6mkrbOVW"
      },
      "execution_count": 33,
      "outputs": []
    },
    {
      "cell_type": "code",
      "source": [
        "Teams = {\n",
        "\"Arsenal\" : \"1\",\n",
        "\"Aston Villa\" : \"2\",\n",
        "\"Brighton\" : \"3\",\n",
        "\"Burnley\" : \"4\",\n",
        "\"Chelsea\" : \"5\",\n",
        "\"Crystal Palace\" : \"6\",\n",
        "\"Everton\" : \"7\",\n",
        "\"Fulham\" : \"8\",\n",
        "\"Leicester\" : \"9\",\n",
        "\"Leeds\" : \"10\",\n",
        "\"Liverpool\" : \"11\",\n",
        "\"Man City\" : \"12\",\n",
        "\"Man Utd\" : \"13\",\n",
        "\"Newcastle\" : \"14\",\n",
        "\"Sheffield Utd\" : \"15\",\n",
        "\"Southampton\" : \"16\",\n",
        "\"Spurs\" : \"17\",\n",
        "\"West Brom\" : \"18\",\n",
        "\"West Ham\" : \"19\",\n",
        "\"Wolves\" : \"20\",\n",
        "}\n",
        "  \n",
        "df[\"team\"] = df[\"team\"].map(Teams)\n",
        "df.iloc[1].was_home"
      ],
      "metadata": {
        "colab": {
          "base_uri": "https://localhost:8080/"
        },
        "id": "VGbfiEsXcEQ1",
        "outputId": "aa0188e0-b931-463a-b653-12ced3d3515b"
      },
      "execution_count": 34,
      "outputs": [
        {
          "output_type": "execute_result",
          "data": {
            "text/plain": [
              "False"
            ]
          },
          "metadata": {},
          "execution_count": 34
        }
      ]
    },
    {
      "cell_type": "code",
      "source": [
        "players_raw = players_raw.astype({'id':'string'})\n",
        "mydict = dict(zip(players_raw.web_name, players_raw.id))\n",
        "c=0\n",
        "mydict['Aguero']=2000\n",
        "mydict['De Breuyne']=2001\n",
        "mydict['H. Barnes']=2002\n",
        "mydict['Martinez']=2003\n",
        "mydict['Richarlisson']=2004\n",
        "mydict['TAA']=2005\n",
        "mydict['LLoris']=2006\n",
        "\n",
        "for index,row in df.iterrows():\n",
        "  id = mydict[row[\"name\"]]\n",
        "  df._set_value(index,'name',id)\n",
        "  \n",
        "df[\"was_home\"] = df[\"was_home\"].astype(int)\n",
        "df[\"1_was_home\"] = df[\"1_was_home\"].astype(int)\n",
        "df[\"2_was_home\"] = df[\"2_was_home\"].astype(int)\n",
        "df[\"3_was_home\"] = df[\"3_was_home\"].astype(int)\n",
        "df[\"4_was_home\"] = df[\"4_was_home\"].astype(int)\n",
        "df.iloc[1]\n",
        "  "
      ],
      "metadata": {
        "colab": {
          "base_uri": "https://localhost:8080/"
        },
        "id": "cXEqQ3IrcHse",
        "outputId": "996fefb5-c9c4-4fdb-dc18-5180d106bc8d"
      },
      "execution_count": 35,
      "outputs": [
        {
          "output_type": "execute_result",
          "data": {
            "text/plain": [
              "name               2000\n",
              "team                 12\n",
              "position              3\n",
              "gameweek              6\n",
              "total_points          0\n",
              "                 ...   \n",
              "4_opp_xpts       1.4646\n",
              "4_opp_wins            0\n",
              "4_opp_draws           0\n",
              "4_opp_loses           1\n",
              "4_opp_npxGD    -0.71673\n",
              "Name: 1, Length: 222, dtype: object"
            ]
          },
          "metadata": {},
          "execution_count": 35
        }
      ]
    },
    {
      "cell_type": "markdown",
      "source": [
        "**Random Forest Model**"
      ],
      "metadata": {
        "id": "y-rMr1BQciv5"
      }
    },
    {
      "cell_type": "code",
      "source": [
        "train = df\n",
        "\n",
        "X = pd.concat([train.iloc[:,[2]], train.iloc[:,5:]], axis = 1)\n",
        "y = train.iloc[:,4]\n",
        "\n",
        "X_train, X_test, y_train, y_test = train_test_split(X, y, test_size=0.25)"
      ],
      "metadata": {
        "id": "oeBRcmUfcP_u"
      },
      "execution_count": 36,
      "outputs": []
    },
    {
      "cell_type": "code",
      "source": [
        "regr = RandomForestRegressor(oob_score = True, n_estimators = 10000, max_features = 5)\n",
        "\n",
        "regr.fit(X_train, y_train)\n",
        "predict_train = regr.predict(X_train)\n",
        "\n",
        "predict_test = regr.predict(X_test)"
      ],
      "metadata": {
        "id": "choOZ0eBcSPw"
      },
      "execution_count": 37,
      "outputs": []
    },
    {
      "cell_type": "code",
      "source": [
        "out_of_bag_predict = regr.oob_score\n",
        "\n",
        "residuals = predict_train - y_train\n",
        "residuals2 = predict_test - y_test\n",
        "residuals3 = out_of_bag_predict - y_train\n",
        "mse_train = np.sqrt(sum(residuals**2)/len(residuals))\n",
        "mse_test = np.sqrt(sum(residuals2**2)/len(residuals2))\n",
        "mse_out_of_bag = np.sqrt(sum(residuals3**2)/len(residuals3))\n",
        "abs_train = sum(abs(residuals))/len(residuals)\n",
        "abs_test = sum(abs(residuals2))/len(residuals2)\n",
        "abs_out_of_bag = sum(abs(residuals3))/len(residuals3)"
      ],
      "metadata": {
        "id": "Y0jjJFMNdKCX"
      },
      "execution_count": 38,
      "outputs": []
    },
    {
      "cell_type": "code",
      "source": [
        "print('sqrt(MSE) on train set: ', mse_train)\n",
        "print('sqrt(MSE) on test set: ', mse_test)\n",
        "print('Mean Absolute value of residuals on train set: ', abs_train)\n",
        "print('Mean Absolute value of residuals on test set: ', abs_test)"
      ],
      "metadata": {
        "colab": {
          "base_uri": "https://localhost:8080/"
        },
        "id": "dSSU9QM1daEN",
        "outputId": "65e1b444-56ae-49b6-bb94-f6b2bcb2c419"
      },
      "execution_count": 39,
      "outputs": [
        {
          "output_type": "stream",
          "name": "stdout",
          "text": [
            "sqrt(MSE) on train set:  1.3449868584208224\n",
            "sqrt(MSE) on test set:  3.3969086012423064\n",
            "Mean Absolute value of residuals on train set:  1.037722413793103\n",
            "Mean Absolute value of residuals on test set:  2.690915301724137\n"
          ]
        }
      ]
    },
    {
      "cell_type": "markdown",
      "source": [
        "**Neural Network**"
      ],
      "metadata": {
        "id": "4FRKc54LdpT_"
      }
    },
    {
      "cell_type": "code",
      "source": [
        "from sklearn.preprocessing import MinMaxScaler\n",
        "scaler = MinMaxScaler()\n",
        "X_train2 = scaler.fit_transform(X_train)\n",
        "X_test2 = scaler.transform(X_test)\n",
        "\n",
        "neural = MLPRegressor( hidden_layer_sizes  = (100,100,100,100), max_iter = 2000, tol = 0.0001, n_iter_no_change = 10000,)"
      ],
      "metadata": {
        "id": "p4_QPs81dra9"
      },
      "execution_count": 40,
      "outputs": []
    },
    {
      "cell_type": "code",
      "source": [
        "neural_fit_train = neural.fit(X_train2, y_train)"
      ],
      "metadata": {
        "colab": {
          "base_uri": "https://localhost:8080/"
        },
        "id": "cNEklRoydxCO",
        "outputId": "3629ce0e-dff9-4ccf-ae82-b2c60106e8a0"
      },
      "execution_count": 41,
      "outputs": [
        {
          "output_type": "stream",
          "name": "stderr",
          "text": [
            "/usr/local/lib/python3.8/dist-packages/sklearn/neural_network/_multilayer_perceptron.py:692: ConvergenceWarning: Stochastic Optimizer: Maximum iterations (2000) reached and the optimization hasn't converged yet.\n",
            "  warnings.warn(\n"
          ]
        }
      ]
    },
    {
      "cell_type": "code",
      "source": [
        "neural_predict_train = neural.predict(X_train2)\n",
        "neural_predict_test = neural.predict(X_test2)"
      ],
      "metadata": {
        "id": "_RKfQVKQeZ9t"
      },
      "execution_count": 42,
      "outputs": []
    },
    {
      "cell_type": "code",
      "source": [
        "plt.figure()\n",
        "sns.scatterplot(np.arange(len(neural_predict_train)),neural_predict_train)\n",
        "plt.title('Points predicted by NNet on train set')"
      ],
      "metadata": {
        "colab": {
          "base_uri": "https://localhost:8080/",
          "height": 353
        },
        "id": "WmKivuY-edoL",
        "outputId": "f283e4a4-621c-4718-e677-b76364d1f81a"
      },
      "execution_count": 43,
      "outputs": [
        {
          "output_type": "stream",
          "name": "stderr",
          "text": [
            "/usr/local/lib/python3.8/dist-packages/seaborn/_decorators.py:36: FutureWarning: Pass the following variables as keyword args: x, y. From version 0.12, the only valid positional argument will be `data`, and passing other arguments without an explicit keyword will result in an error or misinterpretation.\n",
            "  warnings.warn(\n"
          ]
        },
        {
          "output_type": "execute_result",
          "data": {
            "text/plain": [
              "Text(0.5, 1.0, 'Points predicted by NNet on train set')"
            ]
          },
          "metadata": {},
          "execution_count": 43
        },
        {
          "output_type": "display_data",
          "data": {
            "text/plain": [
              "<Figure size 432x288 with 1 Axes>"
            ],
            "image/png": "[encoded data removed]"
          },
          "metadata": {
            "needs_background": "light"
          }
        }
      ]
    },
    {
      "cell_type": "code",
      "source": [
        "plt.figure()\n",
        "sns.scatterplot(np.arange(len(neural_predict_test)),neural_predict_test)\n",
        "plt.title('Points predicted by NNet on train set')"
      ],
      "metadata": {
        "colab": {
          "base_uri": "https://localhost:8080/",
          "height": 353
        },
        "id": "Lk7_2dxFejRw",
        "outputId": "49048c7d-205b-4c0e-ac2a-70d5fe3d0c22"
      },
      "execution_count": 44,
      "outputs": [
        {
          "output_type": "stream",
          "name": "stderr",
          "text": [
            "/usr/local/lib/python3.8/dist-packages/seaborn/_decorators.py:36: FutureWarning: Pass the following variables as keyword args: x, y. From version 0.12, the only valid positional argument will be `data`, and passing other arguments without an explicit keyword will result in an error or misinterpretation.\n",
            "  warnings.warn(\n"
          ]
        },
        {
          "output_type": "execute_result",
          "data": {
            "text/plain": [
              "Text(0.5, 1.0, 'Points predicted by NNet on train set')"
            ]
          },
          "metadata": {},
          "execution_count": 44
        },
        {
          "output_type": "display_data",
          "data": {
            "text/plain": [
              "<Figure size 432x288 with 1 Axes>"
            ],
            "image/png": "[encoded data removed]"
          },
          "metadata": {
            "needs_background": "light"
          }
        }
      ]
    },
    {
      "cell_type": "code",
      "source": [
        "residuals = neural_predict_train - y_train\n",
        "residuals2 = neural_predict_test - y_test\n",
        "mse_train = np.sqrt(sum(residuals**2)/len(residuals))\n",
        "mse_test = np.sqrt(sum(residuals2**2)/len(residuals2))\n",
        "abs_train = sum(abs(residuals))/len(residuals)\n",
        "abs_test = sum(abs(residuals2))/len(residuals2)"
      ],
      "metadata": {
        "id": "ZKH5-EfWeoPl"
      },
      "execution_count": 45,
      "outputs": []
    },
    {
      "cell_type": "code",
      "source": [
        "print('sqrt(MSE) on train set: ', mse_train)\n",
        "print('sqrt(MSE) on test set: ', mse_test)\n",
        "print('Mean Absolute value of residuals on train set: ', abs_train)\n",
        "print('Mean Absolute value of residuals on test set: ', abs_test)"
      ],
      "metadata": {
        "colab": {
          "base_uri": "https://localhost:8080/"
        },
        "id": "PEXFPK2jerRz",
        "outputId": "8d4ff8f8-af0f-47c3-f556-acb37b89c3e9"
      },
      "execution_count": 46,
      "outputs": [
        {
          "output_type": "stream",
          "name": "stdout",
          "text": [
            "sqrt(MSE) on train set:  0.01385293593265606\n",
            "sqrt(MSE) on test set:  4.066043782674357\n",
            "Mean Absolute value of residuals on train set:  0.009358496145142474\n",
            "Mean Absolute value of residuals on test set:  2.9652485111472044\n"
          ]
        }
      ]
    },
    {
      "cell_type": "markdown",
      "source": [
        "**Which model performs better?**\n",
        "We can clearly see that Neural Network based model performs worse than Random Forest.\n",
        "\n",
        "***For Neural Network model:***\n",
        "sqrt(MSE) on test set:  4.06\n",
        "Mean Absolute value of residuals on test set:  2.96\n",
        "\n",
        "***For Random Forest model:***\n",
        "sqrt(MSE) on test set:  3.39\n",
        "Mean Absolute value of residuals on test set:  2.69\n",
        "\n",
        "For test dataset, Random Forest Performs way better than Neural Network.\n",
        "Let's try different values of alpha and recalculate the parameters.\n"
      ],
      "metadata": {
        "id": "ISghv9kbeysz"
      }
    },
    {
      "cell_type": "markdown",
      "source": [
        "**Different 'Alpha' values**"
      ],
      "metadata": {
        "id": "FKYOi7f5gAjy"
      }
    },
    {
      "cell_type": "code",
      "source": [
        "alpha = [0.00, 0.01, 0.1, 1, 10, 100, 1000, 10000, 100000, 1000000,10000000]\n",
        "n = len(alpha)\n",
        "mse_train = [math.nan for i in range(n)]\n",
        "mse_test = [math.nan for i in range(n)]\n",
        "abs_train = [math.nan for i in range(n)]\n",
        "abs_test = [math.nan for i in range(n)]\n",
        "for i in range(n):\n",
        "    Regression = MLPRegressor(alpha = alpha[i], hidden_layer_sizes  = (100,100,100,100), \n",
        "                              max_iter = 2000, tol = 0.0001, n_iter_no_change = 10000)\n",
        "    Regression.fit(X_train2, y_train)\n",
        "    predict_train = Regression.predict(X_train2)\n",
        "    predict_test = Regression.predict(X_test2)\n",
        "\n",
        "    residuals = predict_train - y_train\n",
        "    residuals2 = predict_test - y_test\n",
        "    \n",
        "    mse_train[i] = np.sqrt(sum(residuals**2)/len(residuals))\n",
        "    mse_test[i] = np.sqrt(sum(residuals2**2)/len(residuals2))\n",
        "    \n",
        "    abs_train[i] = sum(abs(residuals))/len(residuals)\n",
        "    abs_test[i] = sum(abs(residuals2))/len(residuals2)"
      ],
      "metadata": {
        "colab": {
          "base_uri": "https://localhost:8080/"
        },
        "id": "9mzhKElnfopV",
        "outputId": "f6c76c22-f914-4322-c1f7-c880d633e203"
      },
      "execution_count": 67,
      "outputs": [
        {
          "output_type": "stream",
          "name": "stderr",
          "text": [
            "/usr/local/lib/python3.8/dist-packages/sklearn/neural_network/_multilayer_perceptron.py:692: ConvergenceWarning: Stochastic Optimizer: Maximum iterations (2000) reached and the optimization hasn't converged yet.\n",
            "  warnings.warn(\n",
            "/usr/local/lib/python3.8/dist-packages/sklearn/neural_network/_multilayer_perceptron.py:692: ConvergenceWarning: Stochastic Optimizer: Maximum iterations (2000) reached and the optimization hasn't converged yet.\n",
            "  warnings.warn(\n",
            "/usr/local/lib/python3.8/dist-packages/sklearn/neural_network/_multilayer_perceptron.py:692: ConvergenceWarning: Stochastic Optimizer: Maximum iterations (2000) reached and the optimization hasn't converged yet.\n",
            "  warnings.warn(\n",
            "/usr/local/lib/python3.8/dist-packages/sklearn/neural_network/_multilayer_perceptron.py:692: ConvergenceWarning: Stochastic Optimizer: Maximum iterations (2000) reached and the optimization hasn't converged yet.\n",
            "  warnings.warn(\n",
            "/usr/local/lib/python3.8/dist-packages/sklearn/neural_network/_multilayer_perceptron.py:692: ConvergenceWarning: Stochastic Optimizer: Maximum iterations (2000) reached and the optimization hasn't converged yet.\n",
            "  warnings.warn(\n",
            "/usr/local/lib/python3.8/dist-packages/sklearn/neural_network/_multilayer_perceptron.py:692: ConvergenceWarning: Stochastic Optimizer: Maximum iterations (2000) reached and the optimization hasn't converged yet.\n",
            "  warnings.warn(\n",
            "/usr/local/lib/python3.8/dist-packages/sklearn/neural_network/_multilayer_perceptron.py:692: ConvergenceWarning: Stochastic Optimizer: Maximum iterations (2000) reached and the optimization hasn't converged yet.\n",
            "  warnings.warn(\n",
            "/usr/local/lib/python3.8/dist-packages/sklearn/neural_network/_multilayer_perceptron.py:692: ConvergenceWarning: Stochastic Optimizer: Maximum iterations (2000) reached and the optimization hasn't converged yet.\n",
            "  warnings.warn(\n",
            "/usr/local/lib/python3.8/dist-packages/sklearn/neural_network/_multilayer_perceptron.py:692: ConvergenceWarning: Stochastic Optimizer: Maximum iterations (2000) reached and the optimization hasn't converged yet.\n",
            "  warnings.warn(\n",
            "/usr/local/lib/python3.8/dist-packages/sklearn/neural_network/_multilayer_perceptron.py:692: ConvergenceWarning: Stochastic Optimizer: Maximum iterations (2000) reached and the optimization hasn't converged yet.\n",
            "  warnings.warn(\n",
            "/usr/local/lib/python3.8/dist-packages/sklearn/neural_network/_multilayer_perceptron.py:692: ConvergenceWarning: Stochastic Optimizer: Maximum iterations (2000) reached and the optimization hasn't converged yet.\n",
            "  warnings.warn(\n"
          ]
        }
      ]
    },
    {
      "cell_type": "code",
      "source": [
        "mse_train"
      ],
      "metadata": {
        "colab": {
          "base_uri": "https://localhost:8080/"
        },
        "id": "LfxW2722kux2",
        "outputId": "636ac1c0-4189-4d5e-a3c4-954ab42aa38f"
      },
      "execution_count": 68,
      "outputs": [
        {
          "output_type": "execute_result",
          "data": {
            "text/plain": [
              "[0.003820275999157641,\n",
              " 0.002429319359254115,\n",
              " 0.03728592544836283,\n",
              " 0.10895358921136168,\n",
              " 0.5712968123085056,\n",
              " 3.8710610194172315,\n",
              " 3.8715306852329716,\n",
              " 3.871076500466037,\n",
              " 3.8710213702012877,\n",
              " 3.871021741479451,\n",
              " 3.8710214992081293]"
            ]
          },
          "metadata": {},
          "execution_count": 68
        }
      ]
    },
    {
      "cell_type": "code",
      "source": [
        "mse_test"
      ],
      "metadata": {
        "colab": {
          "base_uri": "https://localhost:8080/"
        },
        "id": "gxAQLjbdk0Xz",
        "outputId": "565cfd3d-e621-47c9-d1ef-d3e7f845282a"
      },
      "execution_count": 69,
      "outputs": [
        {
          "output_type": "execute_result",
          "data": {
            "text/plain": [
              "[4.022576501662713,\n",
              " 4.164329834766828,\n",
              " 4.063812556891795,\n",
              " 4.275189255134137,\n",
              " 4.3466876317046905,\n",
              " 3.5791042484244118,\n",
              " 3.577276250163187,\n",
              " 3.5810899529765803,\n",
              " 3.579963260109078,\n",
              " 3.579877995288243,\n",
              " 3.579913617156534]"
            ]
          },
          "metadata": {},
          "execution_count": 69
        }
      ]
    },
    {
      "cell_type": "code",
      "source": [
        "plt.figure()\n",
        "plt.plot(np.arange(-3, -3 + len(mse_train)), mse_train)\n",
        "plt.plot(np.arange(-3, -3 +len(mse_test)), mse_test)\n",
        "plt.xlabel('Order of magnitude of penalty term')\n",
        "plt.ylabel('sqrt(MSE)')\n",
        "plt.title('Performance on train and test set for different penalties')"
      ],
      "metadata": {
        "colab": {
          "base_uri": "https://localhost:8080/",
          "height": 312
        },
        "id": "ec0LP7Xbk4Kd",
        "outputId": "15964546-e3fa-4048-db7f-226a006c75f7"
      },
      "execution_count": 70,
      "outputs": [
        {
          "output_type": "execute_result",
          "data": {
            "text/plain": [
              "Text(0.5, 1.0, 'Performance on train and test set for different penalties')"
            ]
          },
          "metadata": {},
          "execution_count": 70
        },
        {
          "output_type": "display_data",
          "data": {
            "text/plain": [
              "<Figure size 432x288 with 1 Axes>"
            ],
            "image/png": "[encoded data removed]"
          },
          "metadata": {
            "needs_background": "light"
          }
        }
      ]
    },
    {
      "cell_type": "markdown",
      "source": [
        "Let's try different normalization"
      ],
      "metadata": {
        "id": "PacqbIoXlKnV"
      }
    },
    {
      "cell_type": "code",
      "source": [
        "from sklearn.preprocessing import StandardScaler\n",
        "scaler2 = StandardScaler()"
      ],
      "metadata": {
        "id": "lb5quB9YlEye"
      },
      "execution_count": 51,
      "outputs": []
    },
    {
      "cell_type": "code",
      "source": [
        "X_train3 = scaler2.fit_transform(X_train)\n",
        "X_test3 = scaler2.transform(X_test)\n",
        "\n",
        "neural2 = MLPRegressor( hidden_layer_sizes  = (100,100,100,100), max_iter = 2000, tol = 0.0001, n_iter_no_change = 10000,)"
      ],
      "metadata": {
        "id": "QL-fHUKllIUd"
      },
      "execution_count": 52,
      "outputs": []
    },
    {
      "cell_type": "code",
      "source": [
        "neural2.fit(X_train3, y_train)"
      ],
      "metadata": {
        "colab": {
          "base_uri": "https://localhost:8080/"
        },
        "id": "xlxyjF3wlWL9",
        "outputId": "e8eca3cc-396c-436f-83f6-890eee403f2b"
      },
      "execution_count": 53,
      "outputs": [
        {
          "output_type": "stream",
          "name": "stderr",
          "text": [
            "/usr/local/lib/python3.8/dist-packages/sklearn/neural_network/_multilayer_perceptron.py:692: ConvergenceWarning: Stochastic Optimizer: Maximum iterations (2000) reached and the optimization hasn't converged yet.\n",
            "  warnings.warn(\n"
          ]
        },
        {
          "output_type": "execute_result",
          "data": {
            "text/plain": [
              "MLPRegressor(hidden_layer_sizes=(100, 100, 100, 100), max_iter=2000,\n",
              "             n_iter_no_change=10000)"
            ]
          },
          "metadata": {},
          "execution_count": 53
        }
      ]
    },
    {
      "cell_type": "code",
      "source": [
        "neural2_predict_train = neural2.predict(X_train3)\n",
        "neural2_predict_test = neural2.predict(X_test3)"
      ],
      "metadata": {
        "id": "nzpGyk4clm2V"
      },
      "execution_count": 54,
      "outputs": []
    },
    {
      "cell_type": "code",
      "source": [
        "residuals = neural2_predict_train - y_train\n",
        "residuals2 = neural2_predict_test - y_test\n",
        "mse_train = np.sqrt(sum(residuals**2)/len(residuals))\n",
        "mse_test = np.sqrt(sum(residuals2**2)/len(residuals2))\n",
        "abs_train = sum(abs(residuals))/len(residuals)\n",
        "abs_test = sum(abs(residuals2))/len(residuals2)"
      ],
      "metadata": {
        "id": "1JMpN1T-lofG"
      },
      "execution_count": 55,
      "outputs": []
    },
    {
      "cell_type": "code",
      "source": [
        "print('sqrt(MSE) on train set: ', mse_train)\n",
        "print('sqrt(MSE) on test set: ', mse_test)\n",
        "print('Mean Absolute value of residuals on train set: ', abs_train)\n",
        "print('Mean Absolute value of residuals on test set: ', abs_test)"
      ],
      "metadata": {
        "colab": {
          "base_uri": "https://localhost:8080/"
        },
        "id": "p_JnUIdhlqDd",
        "outputId": "d8fdcd1a-f97e-44c5-e321-4ed9f60c8e97"
      },
      "execution_count": 56,
      "outputs": [
        {
          "output_type": "stream",
          "name": "stdout",
          "text": [
            "sqrt(MSE) on train set:  0.06352451259507219\n",
            "sqrt(MSE) on test set:  4.034499987267883\n",
            "Mean Absolute value of residuals on train set:  0.04100311618796079\n",
            "Mean Absolute value of residuals on test set:  2.92914734440971\n"
          ]
        }
      ]
    },
    {
      "cell_type": "markdown",
      "source": [
        "Performance is sightly better than before, but not satisfactory."
      ],
      "metadata": {
        "id": "SDEjJBCBlt9d"
      }
    },
    {
      "cell_type": "code",
      "source": [
        "neural3 = MLPRegressor( hidden_layer_sizes  = (100,100), max_iter = 20000, tol = 0.0001, n_iter_no_change = 10000,)\n",
        "neural3.fit(X_train2, y_train)"
      ],
      "metadata": {
        "colab": {
          "base_uri": "https://localhost:8080/"
        },
        "id": "I0Ewgojglw6d",
        "outputId": "0561cfac-0cf7-4745-8fd5-33a0363321a4"
      },
      "execution_count": 57,
      "outputs": [
        {
          "output_type": "execute_result",
          "data": {
            "text/plain": [
              "MLPRegressor(hidden_layer_sizes=(100, 100), max_iter=20000,\n",
              "             n_iter_no_change=10000)"
            ]
          },
          "metadata": {},
          "execution_count": 57
        }
      ]
    },
    {
      "cell_type": "code",
      "source": [
        "neural3_predict_train = neural3.predict(X_train2)\n",
        "neural3_predict_test = neural3.predict(X_test2)"
      ],
      "metadata": {
        "id": "weW6wbIYl7NG"
      },
      "execution_count": 58,
      "outputs": []
    },
    {
      "cell_type": "code",
      "source": [
        "residuals = neural3_predict_train - y_train\n",
        "residuals2 = neural3_predict_test - y_test\n",
        "mse_train = np.sqrt(sum(residuals**2)/len(residuals))\n",
        "mse_test = np.sqrt(sum(residuals2**2)/len(residuals2))\n",
        "abs_train = sum(abs(residuals))/len(residuals)\n",
        "abs_test = sum(abs(residuals2))/len(residuals2)"
      ],
      "metadata": {
        "id": "qyDm9wwLmHd1"
      },
      "execution_count": 59,
      "outputs": []
    },
    {
      "cell_type": "code",
      "source": [
        "print('sqrt(MSE) on train set: ', mse_train)\n",
        "print('sqrt(MSE) on test set: ', mse_test)\n",
        "print('Mean Absolute value of residuals on train set: ', abs_train)\n",
        "print('Mean Absolute value of residuals on test set: ', abs_test)"
      ],
      "metadata": {
        "colab": {
          "base_uri": "https://localhost:8080/"
        },
        "id": "1OzGSoI5mJJs",
        "outputId": "5f9d13ce-d056-453b-e246-b9319a51104b"
      },
      "execution_count": 60,
      "outputs": [
        {
          "output_type": "stream",
          "name": "stdout",
          "text": [
            "sqrt(MSE) on train set:  0.028085061853302198\n",
            "sqrt(MSE) on test set:  4.167124008882429\n",
            "Mean Absolute value of residuals on train set:  0.021006081062841606\n",
            "Mean Absolute value of residuals on test set:  3.089541590334458\n"
          ]
        }
      ]
    },
    {
      "cell_type": "markdown",
      "source": [
        "Training smaller Neural Network leads to worst performance.\n",
        "\n",
        "sqrt(MSE) on test set:  4.16\n",
        "Mean Absolute value of residuals on test set:  3.089"
      ],
      "metadata": {
        "id": "GOak0_ly7u4Y"
      }
    }
  ]
}